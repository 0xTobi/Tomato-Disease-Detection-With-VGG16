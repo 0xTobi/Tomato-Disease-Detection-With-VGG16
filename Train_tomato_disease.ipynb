{
 "cells": [
  {
   "cell_type": "markdown",
   "id": "f9444a00-14eb-4c57-83ba-abe10cd4b875",
   "metadata": {},
   "source": [
    "# TOMATO DISEASE PREDICTION"
   ]
  },
  {
   "cell_type": "markdown",
   "id": "09fe2a91-8331-4686-bcd7-4f445fe8ec71",
   "metadata": {},
   "source": [
    "## Importing libraries"
   ]
  },
  {
   "cell_type": "code",
   "execution_count": 1,
   "id": "e5fdbd1e-4244-4cf5-aa7e-de96ab12df57",
   "metadata": {},
   "outputs": [],
   "source": [
    "import tensorflow as tf\n",
    "import matplotlib.pyplot as plt\n",
    "import pandas as pd\n",
    "import seaborn as sns\n",
    "from tensorflow.keras.preprocessing.image import ImageDataGenerator\n",
    "from tensorflow.keras.applications import VGG16\n",
    "from tensorflow.keras.layers import Dense, Flatten, Dropout, GlobalAveragePooling2D\n",
    "from tensorflow.keras.models import Model\n",
    "from tensorflow.keras.callbacks import EarlyStopping, ModelCheckpoint, ReduceLROnPlateau"
   ]
  },
  {
   "cell_type": "code",
   "execution_count": 25,
   "id": "83940116-faaf-4d0f-bb3a-097f57291bb1",
   "metadata": {},
   "outputs": [],
   "source": [
    "from sklearn.metrics import classification_report, confusion_matrix, ConfusionMatrixDisplay\n",
    "import numpy as np"
   ]
  },
  {
   "cell_type": "markdown",
   "id": "a2029bac-c049-499e-ae2b-78c2c27efde0",
   "metadata": {},
   "source": [
    "## Data Preprocessing"
   ]
  },
  {
   "cell_type": "markdown",
   "id": "6ed8d29a-d196-4d74-b8b1-f10a67c9d4f8",
   "metadata": {},
   "source": [
    "### Data Augmentation"
   ]
  },
  {
   "cell_type": "code",
   "execution_count": 2,
   "id": "85c4a35a-e738-48b4-b0de-950b798dd7b0",
   "metadata": {},
   "outputs": [],
   "source": [
    "# Applying various transformations to the training data to increase its variability\n",
    "train_datagen = ImageDataGenerator(\n",
    "    rescale=1./255,\n",
    "    rotation_range=40,\n",
    "    width_shift_range=0.2,\n",
    "    height_shift_range=0.2,\n",
    "    shear_range=0.2,\n",
    "    zoom_range=0.2,\n",
    "    horizontal_flip=True,\n",
    "    fill_mode='nearest'\n",
    ")"
   ]
  },
  {
   "cell_type": "code",
   "execution_count": 3,
   "id": "02c2e90d-78c0-4e69-9bfc-f1c5e569011e",
   "metadata": {},
   "outputs": [],
   "source": [
    "# Rescaling validation data without augmentation\n",
    "validation_datagen = ImageDataGenerator(rescale=1./255)"
   ]
  },
  {
   "cell_type": "code",
   "execution_count": 4,
   "id": "af0fbe2f-cf9c-4ac4-aede-87e075f65128",
   "metadata": {},
   "outputs": [
    {
     "name": "stdout",
     "output_type": "stream",
     "text": [
      "Found 21043 images belonging to 10 classes.\n"
     ]
    }
   ],
   "source": [
    "# Loading training data with data augmentation\n",
    "train_generator = train_datagen.flow_from_directory(\n",
    "    'train',\n",
    "    target_size=(128, 128),\n",
    "    batch_size=32,\n",
    "    class_mode='categorical'\n",
    ")"
   ]
  },
  {
   "cell_type": "code",
   "execution_count": 5,
   "id": "fc027d7c-ffa7-4bef-b632-2c7a7dd33d5f",
   "metadata": {},
   "outputs": [
    {
     "name": "stdout",
     "output_type": "stream",
     "text": [
      "Found 5460 images belonging to 10 classes.\n"
     ]
    }
   ],
   "source": [
    "# Loading validation data\n",
    "validation_generator = validation_datagen.flow_from_directory(\n",
    "    'valid',\n",
    "    target_size=(128, 128),\n",
    "    batch_size=32,\n",
    "    class_mode='categorical'\n",
    ")"
   ]
  },
  {
   "cell_type": "markdown",
   "id": "949c3e43-5b27-44e2-a86d-036e1d95424f",
   "metadata": {},
   "source": [
    "## Building the Model"
   ]
  },
  {
   "cell_type": "markdown",
   "id": "465a1e29-aa5b-478a-acb5-99163b3da62d",
   "metadata": {},
   "source": [
    "### Transfer Learning with VGG16"
   ]
  },
  {
   "cell_type": "code",
   "execution_count": 6,
   "id": "f961f461-a759-451b-97c5-2e7631188518",
   "metadata": {},
   "outputs": [
    {
     "name": "stderr",
     "output_type": "stream",
     "text": [
      "2024-07-29 01:14:11.707350: I metal_plugin/src/device/metal_device.cc:1154] Metal device set to: Apple M1 Pro\n",
      "2024-07-29 01:14:11.707391: I metal_plugin/src/device/metal_device.cc:296] systemMemory: 16.00 GB\n",
      "2024-07-29 01:14:11.707400: I metal_plugin/src/device/metal_device.cc:313] maxCacheSize: 5.33 GB\n",
      "2024-07-29 01:14:11.707423: I tensorflow/core/common_runtime/pluggable_device/pluggable_device_factory.cc:305] Could not identify NUMA node of platform GPU ID 0, defaulting to 0. Your kernel may not have been built with NUMA support.\n",
      "2024-07-29 01:14:11.707440: I tensorflow/core/common_runtime/pluggable_device/pluggable_device_factory.cc:271] Created TensorFlow device (/job:localhost/replica:0/task:0/device:GPU:0 with 0 MB memory) -> physical PluggableDevice (device: 0, name: METAL, pci bus id: <undefined>)\n"
     ]
    }
   ],
   "source": [
    "# Using a pre-trained VGG16 model, excluding its top layers\n",
    "base_model = VGG16(input_shape=(128, 128, 3), include_top=False, weights='imagenet')"
   ]
  },
  {
   "cell_type": "code",
   "execution_count": 7,
   "id": "e41b3476-3ed7-4471-8e87-d7e6bc3dcab7",
   "metadata": {},
   "outputs": [],
   "source": [
    "# Freezing the layers of the pre-trained model\n",
    "for layer in base_model.layers:\n",
    "    layer.trainable = False"
   ]
  },
  {
   "cell_type": "code",
   "execution_count": 8,
   "id": "2f048367-0135-4eea-a666-1b1f3db6bfc8",
   "metadata": {},
   "outputs": [],
   "source": [
    "# Adding custom top layers for our specific classification task\n",
    "x = base_model.output\n",
    "x = GlobalAveragePooling2D()(x)\n",
    "x = Dense(1024, activation='relu')(x)\n",
    "x = Dropout(0.5)(x)\n",
    "predictions = Dense(10, activation='softmax')(x)"
   ]
  },
  {
   "cell_type": "code",
   "execution_count": 9,
   "id": "40f8a7f2-efb8-461d-8775-58895ae0cd44",
   "metadata": {},
   "outputs": [],
   "source": [
    "# Defining the complete model\n",
    "model = Model(inputs=base_model.input, outputs=predictions)"
   ]
  },
  {
   "cell_type": "code",
   "execution_count": 10,
   "id": "d3f1a509-8151-4b2f-a032-94dc0dfd6760",
   "metadata": {},
   "outputs": [],
   "source": [
    "# Compiling the model with appropriate loss function and optimizer\n",
    "model.compile(optimizer='adam', loss='categorical_crossentropy', metrics=['accuracy'])"
   ]
  },
  {
   "cell_type": "markdown",
   "id": "e3191990-b5fd-49a2-a89f-257388f41e40",
   "metadata": {},
   "source": [
    "## Training the Model"
   ]
  },
  {
   "cell_type": "markdown",
   "id": "fd0cbc77-d7f7-44fb-97cd-9c63b3b0f469",
   "metadata": {},
   "source": [
    "### Callbacks"
   ]
  },
  {
   "cell_type": "code",
   "execution_count": 11,
   "id": "014d8ea2-a1c8-4dcc-94fe-3cc89ebe1788",
   "metadata": {},
   "outputs": [],
   "source": [
    "# Setting up callbacks for early stopping, model checkpointing, and learning rate reduction\n",
    "early_stopping = EarlyStopping(monitor='val_loss', patience=10, restore_best_weights=True)\n",
    "model_checkpoint = ModelCheckpoint('best_model.keras', save_best_only=True)\n",
    "reduce_lr = ReduceLROnPlateau(monitor='val_loss', factor=0.2, patience=5)"
   ]
  },
  {
   "cell_type": "code",
   "execution_count": 13,
   "id": "b3235f9d-fce8-4afb-a019-91fc1d3d3345",
   "metadata": {},
   "outputs": [
    {
     "name": "stdout",
     "output_type": "stream",
     "text": [
      "Epoch 1/50\n",
      "\u001b[1m658/658\u001b[0m \u001b[32m━━━━━━━━━━━━━━━━━━━━\u001b[0m\u001b[37m\u001b[0m \u001b[1m118s\u001b[0m 179ms/step - accuracy: 0.5051 - loss: 1.4808 - val_accuracy: 0.6786 - val_loss: 0.9074 - learning_rate: 0.0010\n",
      "Epoch 2/50\n",
      "\u001b[1m658/658\u001b[0m \u001b[32m━━━━━━━━━━━━━━━━━━━━\u001b[0m\u001b[37m\u001b[0m \u001b[1m120s\u001b[0m 181ms/step - accuracy: 0.6839 - loss: 0.9394 - val_accuracy: 0.7271 - val_loss: 0.7789 - learning_rate: 0.0010\n",
      "Epoch 3/50\n",
      "\u001b[1m658/658\u001b[0m \u001b[32m━━━━━━━━━━━━━━━━━━━━\u001b[0m\u001b[37m\u001b[0m \u001b[1m120s\u001b[0m 182ms/step - accuracy: 0.7031 - loss: 0.8660 - val_accuracy: 0.7480 - val_loss: 0.7084 - learning_rate: 0.0010\n",
      "Epoch 4/50\n",
      "\u001b[1m658/658\u001b[0m \u001b[32m━━━━━━━━━━━━━━━━━━━━\u001b[0m\u001b[37m\u001b[0m \u001b[1m120s\u001b[0m 182ms/step - accuracy: 0.7299 - loss: 0.7733 - val_accuracy: 0.7874 - val_loss: 0.6197 - learning_rate: 0.0010\n",
      "Epoch 5/50\n",
      "\u001b[1m658/658\u001b[0m \u001b[32m━━━━━━━━━━━━━━━━━━━━\u001b[0m\u001b[37m\u001b[0m \u001b[1m122s\u001b[0m 185ms/step - accuracy: 0.7429 - loss: 0.7433 - val_accuracy: 0.7841 - val_loss: 0.6333 - learning_rate: 0.0010\n",
      "Epoch 6/50\n",
      "\u001b[1m658/658\u001b[0m \u001b[32m━━━━━━━━━━━━━━━━━━━━\u001b[0m\u001b[37m\u001b[0m \u001b[1m119s\u001b[0m 180ms/step - accuracy: 0.7532 - loss: 0.7212 - val_accuracy: 0.7824 - val_loss: 0.6242 - learning_rate: 0.0010\n",
      "Epoch 7/50\n",
      "\u001b[1m658/658\u001b[0m \u001b[32m━━━━━━━━━━━━━━━━━━━━\u001b[0m\u001b[37m\u001b[0m \u001b[1m120s\u001b[0m 181ms/step - accuracy: 0.7532 - loss: 0.6909 - val_accuracy: 0.7888 - val_loss: 0.5936 - learning_rate: 0.0010\n",
      "Epoch 8/50\n",
      "\u001b[1m658/658\u001b[0m \u001b[32m━━━━━━━━━━━━━━━━━━━━\u001b[0m\u001b[37m\u001b[0m \u001b[1m118s\u001b[0m 178ms/step - accuracy: 0.7636 - loss: 0.6813 - val_accuracy: 0.7985 - val_loss: 0.5664 - learning_rate: 0.0010\n",
      "Epoch 9/50\n",
      "\u001b[1m658/658\u001b[0m \u001b[32m━━━━━━━━━━━━━━━━━━━━\u001b[0m\u001b[37m\u001b[0m \u001b[1m118s\u001b[0m 178ms/step - accuracy: 0.7573 - loss: 0.6869 - val_accuracy: 0.7963 - val_loss: 0.5829 - learning_rate: 0.0010\n",
      "Epoch 10/50\n",
      "\u001b[1m658/658\u001b[0m \u001b[32m━━━━━━━━━━━━━━━━━━━━\u001b[0m\u001b[37m\u001b[0m \u001b[1m118s\u001b[0m 178ms/step - accuracy: 0.7763 - loss: 0.6464 - val_accuracy: 0.8046 - val_loss: 0.5482 - learning_rate: 0.0010\n",
      "Epoch 11/50\n",
      "\u001b[1m658/658\u001b[0m \u001b[32m━━━━━━━━━━━━━━━━━━━━\u001b[0m\u001b[37m\u001b[0m \u001b[1m118s\u001b[0m 178ms/step - accuracy: 0.7724 - loss: 0.6467 - val_accuracy: 0.8088 - val_loss: 0.5459 - learning_rate: 0.0010\n",
      "Epoch 12/50\n",
      "\u001b[1m658/658\u001b[0m \u001b[32m━━━━━━━━━━━━━━━━━━━━\u001b[0m\u001b[37m\u001b[0m \u001b[1m118s\u001b[0m 179ms/step - accuracy: 0.7829 - loss: 0.6376 - val_accuracy: 0.8038 - val_loss: 0.5442 - learning_rate: 0.0010\n",
      "Epoch 13/50\n",
      "\u001b[1m658/658\u001b[0m \u001b[32m━━━━━━━━━━━━━━━━━━━━\u001b[0m\u001b[37m\u001b[0m \u001b[1m119s\u001b[0m 179ms/step - accuracy: 0.7827 - loss: 0.6188 - val_accuracy: 0.8179 - val_loss: 0.5042 - learning_rate: 0.0010\n",
      "Epoch 14/50\n",
      "\u001b[1m658/658\u001b[0m \u001b[32m━━━━━━━━━━━━━━━━━━━━\u001b[0m\u001b[37m\u001b[0m \u001b[1m119s\u001b[0m 179ms/step - accuracy: 0.7855 - loss: 0.6159 - val_accuracy: 0.8167 - val_loss: 0.5183 - learning_rate: 0.0010\n",
      "Epoch 15/50\n",
      "\u001b[1m658/658\u001b[0m \u001b[32m━━━━━━━━━━━━━━━━━━━━\u001b[0m\u001b[37m\u001b[0m \u001b[1m119s\u001b[0m 180ms/step - accuracy: 0.7883 - loss: 0.6010 - val_accuracy: 0.8002 - val_loss: 0.5645 - learning_rate: 0.0010\n",
      "Epoch 16/50\n",
      "\u001b[1m658/658\u001b[0m \u001b[32m━━━━━━━━━━━━━━━━━━━━\u001b[0m\u001b[37m\u001b[0m \u001b[1m119s\u001b[0m 179ms/step - accuracy: 0.7901 - loss: 0.5963 - val_accuracy: 0.8126 - val_loss: 0.5317 - learning_rate: 0.0010\n",
      "Epoch 17/50\n",
      "\u001b[1m658/658\u001b[0m \u001b[32m━━━━━━━━━━━━━━━━━━━━\u001b[0m\u001b[37m\u001b[0m \u001b[1m120s\u001b[0m 181ms/step - accuracy: 0.7893 - loss: 0.6019 - val_accuracy: 0.8291 - val_loss: 0.4827 - learning_rate: 0.0010\n",
      "Epoch 18/50\n",
      "\u001b[1m658/658\u001b[0m \u001b[32m━━━━━━━━━━━━━━━━━━━━\u001b[0m\u001b[37m\u001b[0m \u001b[1m121s\u001b[0m 183ms/step - accuracy: 0.7944 - loss: 0.5814 - val_accuracy: 0.8300 - val_loss: 0.4853 - learning_rate: 0.0010\n",
      "Epoch 19/50\n",
      "\u001b[1m658/658\u001b[0m \u001b[32m━━━━━━━━━━━━━━━━━━━━\u001b[0m\u001b[37m\u001b[0m \u001b[1m121s\u001b[0m 184ms/step - accuracy: 0.7909 - loss: 0.5970 - val_accuracy: 0.8090 - val_loss: 0.5351 - learning_rate: 0.0010\n",
      "Epoch 20/50\n",
      "\u001b[1m658/658\u001b[0m \u001b[32m━━━━━━━━━━━━━━━━━━━━\u001b[0m\u001b[37m\u001b[0m \u001b[1m120s\u001b[0m 182ms/step - accuracy: 0.7975 - loss: 0.5836 - val_accuracy: 0.8236 - val_loss: 0.4996 - learning_rate: 0.0010\n",
      "Epoch 21/50\n",
      "\u001b[1m658/658\u001b[0m \u001b[32m━━━━━━━━━━━━━━━━━━━━\u001b[0m\u001b[37m\u001b[0m \u001b[1m120s\u001b[0m 182ms/step - accuracy: 0.7975 - loss: 0.5703 - val_accuracy: 0.8383 - val_loss: 0.4766 - learning_rate: 0.0010\n",
      "Epoch 22/50\n",
      "\u001b[1m658/658\u001b[0m \u001b[32m━━━━━━━━━━━━━━━━━━━━\u001b[0m\u001b[37m\u001b[0m \u001b[1m119s\u001b[0m 180ms/step - accuracy: 0.7980 - loss: 0.5762 - val_accuracy: 0.8245 - val_loss: 0.4984 - learning_rate: 0.0010\n",
      "Epoch 23/50\n",
      "\u001b[1m658/658\u001b[0m \u001b[32m━━━━━━━━━━━━━━━━━━━━\u001b[0m\u001b[37m\u001b[0m \u001b[1m121s\u001b[0m 183ms/step - accuracy: 0.8001 - loss: 0.5638 - val_accuracy: 0.8370 - val_loss: 0.4614 - learning_rate: 0.0010\n",
      "Epoch 24/50\n",
      "\u001b[1m658/658\u001b[0m \u001b[32m━━━━━━━━━━━━━━━━━━━━\u001b[0m\u001b[37m\u001b[0m \u001b[1m124s\u001b[0m 187ms/step - accuracy: 0.8004 - loss: 0.5676 - val_accuracy: 0.8161 - val_loss: 0.5173 - learning_rate: 0.0010\n",
      "Epoch 25/50\n",
      "\u001b[1m658/658\u001b[0m \u001b[32m━━━━━━━━━━━━━━━━━━━━\u001b[0m\u001b[37m\u001b[0m \u001b[1m122s\u001b[0m 184ms/step - accuracy: 0.7981 - loss: 0.5619 - val_accuracy: 0.8344 - val_loss: 0.4674 - learning_rate: 0.0010\n",
      "Epoch 26/50\n",
      "\u001b[1m658/658\u001b[0m \u001b[32m━━━━━━━━━━━━━━━━━━━━\u001b[0m\u001b[37m\u001b[0m \u001b[1m122s\u001b[0m 185ms/step - accuracy: 0.8063 - loss: 0.5460 - val_accuracy: 0.8339 - val_loss: 0.4613 - learning_rate: 0.0010\n",
      "Epoch 27/50\n",
      "\u001b[1m658/658\u001b[0m \u001b[32m━━━━━━━━━━━━━━━━━━━━\u001b[0m\u001b[37m\u001b[0m \u001b[1m123s\u001b[0m 186ms/step - accuracy: 0.8112 - loss: 0.5433 - val_accuracy: 0.8278 - val_loss: 0.4865 - learning_rate: 0.0010\n",
      "Epoch 28/50\n",
      "\u001b[1m658/658\u001b[0m \u001b[32m━━━━━━━━━━━━━━━━━━━━\u001b[0m\u001b[37m\u001b[0m \u001b[1m122s\u001b[0m 185ms/step - accuracy: 0.8048 - loss: 0.5545 - val_accuracy: 0.8300 - val_loss: 0.4733 - learning_rate: 0.0010\n",
      "Epoch 29/50\n",
      "\u001b[1m658/658\u001b[0m \u001b[32m━━━━━━━━━━━━━━━━━━━━\u001b[0m\u001b[37m\u001b[0m \u001b[1m123s\u001b[0m 185ms/step - accuracy: 0.8225 - loss: 0.4974 - val_accuracy: 0.8509 - val_loss: 0.4162 - learning_rate: 2.0000e-04\n",
      "Epoch 30/50\n",
      "\u001b[1m658/658\u001b[0m \u001b[32m━━━━━━━━━━━━━━━━━━━━\u001b[0m\u001b[37m\u001b[0m \u001b[1m119s\u001b[0m 180ms/step - accuracy: 0.8386 - loss: 0.4593 - val_accuracy: 0.8447 - val_loss: 0.4313 - learning_rate: 2.0000e-04\n",
      "Epoch 31/50\n",
      "\u001b[1m658/658\u001b[0m \u001b[32m━━━━━━━━━━━━━━━━━━━━\u001b[0m\u001b[37m\u001b[0m \u001b[1m119s\u001b[0m 180ms/step - accuracy: 0.8317 - loss: 0.4792 - val_accuracy: 0.8352 - val_loss: 0.4598 - learning_rate: 2.0000e-04\n",
      "Epoch 32/50\n",
      "\u001b[1m658/658\u001b[0m \u001b[32m━━━━━━━━━━━━━━━━━━━━\u001b[0m\u001b[37m\u001b[0m \u001b[1m118s\u001b[0m 179ms/step - accuracy: 0.8334 - loss: 0.4739 - val_accuracy: 0.8487 - val_loss: 0.4241 - learning_rate: 2.0000e-04\n",
      "Epoch 33/50\n",
      "\u001b[1m658/658\u001b[0m \u001b[32m━━━━━━━━━━━━━━━━━━━━\u001b[0m\u001b[37m\u001b[0m \u001b[1m117s\u001b[0m 177ms/step - accuracy: 0.8403 - loss: 0.4525 - val_accuracy: 0.8465 - val_loss: 0.4287 - learning_rate: 2.0000e-04\n",
      "Epoch 34/50\n",
      "\u001b[1m658/658\u001b[0m \u001b[32m━━━━━━━━━━━━━━━━━━━━\u001b[0m\u001b[37m\u001b[0m \u001b[1m117s\u001b[0m 176ms/step - accuracy: 0.8456 - loss: 0.4511 - val_accuracy: 0.8401 - val_loss: 0.4435 - learning_rate: 2.0000e-04\n",
      "Epoch 35/50\n",
      "\u001b[1m658/658\u001b[0m \u001b[32m━━━━━━━━━━━━━━━━━━━━\u001b[0m\u001b[37m\u001b[0m \u001b[1m119s\u001b[0m 180ms/step - accuracy: 0.8425 - loss: 0.4515 - val_accuracy: 0.8476 - val_loss: 0.4258 - learning_rate: 4.0000e-05\n",
      "Epoch 36/50\n",
      "\u001b[1m658/658\u001b[0m \u001b[32m━━━━━━━━━━━━━━━━━━━━\u001b[0m\u001b[37m\u001b[0m \u001b[1m125s\u001b[0m 189ms/step - accuracy: 0.8414 - loss: 0.4510 - val_accuracy: 0.8491 - val_loss: 0.4206 - learning_rate: 4.0000e-05\n",
      "Epoch 37/50\n",
      "\u001b[1m658/658\u001b[0m \u001b[32m━━━━━━━━━━━━━━━━━━━━\u001b[0m\u001b[37m\u001b[0m \u001b[1m124s\u001b[0m 187ms/step - accuracy: 0.8474 - loss: 0.4396 - val_accuracy: 0.8484 - val_loss: 0.4218 - learning_rate: 4.0000e-05\n",
      "Epoch 38/50\n",
      "\u001b[1m658/658\u001b[0m \u001b[32m━━━━━━━━━━━━━━━━━━━━\u001b[0m\u001b[37m\u001b[0m \u001b[1m125s\u001b[0m 188ms/step - accuracy: 0.8467 - loss: 0.4316 - val_accuracy: 0.8480 - val_loss: 0.4207 - learning_rate: 4.0000e-05\n",
      "Epoch 39/50\n",
      "\u001b[1m658/658\u001b[0m \u001b[32m━━━━━━━━━━━━━━━━━━━━\u001b[0m\u001b[37m\u001b[0m \u001b[1m127s\u001b[0m 193ms/step - accuracy: 0.8450 - loss: 0.4362 - val_accuracy: 0.8518 - val_loss: 0.4154 - learning_rate: 4.0000e-05\n",
      "Epoch 40/50\n",
      "\u001b[1m658/658\u001b[0m \u001b[32m━━━━━━━━━━━━━━━━━━━━\u001b[0m\u001b[37m\u001b[0m \u001b[1m128s\u001b[0m 194ms/step - accuracy: 0.8496 - loss: 0.4477 - val_accuracy: 0.8467 - val_loss: 0.4234 - learning_rate: 4.0000e-05\n",
      "Epoch 41/50\n",
      "\u001b[1m658/658\u001b[0m \u001b[32m━━━━━━━━━━━━━━━━━━━━\u001b[0m\u001b[37m\u001b[0m \u001b[1m124s\u001b[0m 188ms/step - accuracy: 0.8493 - loss: 0.4395 - val_accuracy: 0.8502 - val_loss: 0.4195 - learning_rate: 4.0000e-05\n",
      "Epoch 42/50\n",
      "\u001b[1m658/658\u001b[0m \u001b[32m━━━━━━━━━━━━━━━━━━━━\u001b[0m\u001b[37m\u001b[0m \u001b[1m121s\u001b[0m 183ms/step - accuracy: 0.8488 - loss: 0.4313 - val_accuracy: 0.8495 - val_loss: 0.4193 - learning_rate: 4.0000e-05\n",
      "Epoch 43/50\n",
      "\u001b[1m658/658\u001b[0m \u001b[32m━━━━━━━━━━━━━━━━━━━━\u001b[0m\u001b[37m\u001b[0m \u001b[1m124s\u001b[0m 187ms/step - accuracy: 0.8445 - loss: 0.4427 - val_accuracy: 0.8498 - val_loss: 0.4216 - learning_rate: 4.0000e-05\n",
      "Epoch 44/50\n",
      "\u001b[1m658/658\u001b[0m \u001b[32m━━━━━━━━━━━━━━━━━━━━\u001b[0m\u001b[37m\u001b[0m \u001b[1m125s\u001b[0m 189ms/step - accuracy: 0.8466 - loss: 0.4355 - val_accuracy: 0.8487 - val_loss: 0.4230 - learning_rate: 4.0000e-05\n",
      "Epoch 45/50\n",
      "\u001b[1m658/658\u001b[0m \u001b[32m━━━━━━━━━━━━━━━━━━━━\u001b[0m\u001b[37m\u001b[0m \u001b[1m125s\u001b[0m 189ms/step - accuracy: 0.8450 - loss: 0.4356 - val_accuracy: 0.8496 - val_loss: 0.4195 - learning_rate: 8.0000e-06\n",
      "Epoch 46/50\n",
      "\u001b[1m658/658\u001b[0m \u001b[32m━━━━━━━━━━━━━━━━━━━━\u001b[0m\u001b[37m\u001b[0m \u001b[1m125s\u001b[0m 189ms/step - accuracy: 0.8479 - loss: 0.4316 - val_accuracy: 0.8498 - val_loss: 0.4170 - learning_rate: 8.0000e-06\n",
      "Epoch 47/50\n",
      "\u001b[1m658/658\u001b[0m \u001b[32m━━━━━━━━━━━━━━━━━━━━\u001b[0m\u001b[37m\u001b[0m \u001b[1m101s\u001b[0m 153ms/step - accuracy: 0.8518 - loss: 0.4251 - val_accuracy: 0.8495 - val_loss: 0.4201 - learning_rate: 8.0000e-06\n",
      "Epoch 48/50\n",
      "\u001b[1m658/658\u001b[0m \u001b[32m━━━━━━━━━━━━━━━━━━━━\u001b[0m\u001b[37m\u001b[0m \u001b[1m102s\u001b[0m 154ms/step - accuracy: 0.8444 - loss: 0.4385 - val_accuracy: 0.8509 - val_loss: 0.4195 - learning_rate: 8.0000e-06\n",
      "Epoch 49/50\n",
      "\u001b[1m658/658\u001b[0m \u001b[32m━━━━━━━━━━━━━━━━━━━━\u001b[0m\u001b[37m\u001b[0m \u001b[1m93s\u001b[0m 140ms/step - accuracy: 0.8454 - loss: 0.4357 - val_accuracy: 0.8526 - val_loss: 0.4170 - learning_rate: 8.0000e-06\n"
     ]
    }
   ],
   "source": [
    "# Training the model with the specified configuration\n",
    "with tf.device('/GPU:0'):\n",
    "    history = model.fit(\n",
    "        train_generator,\n",
    "        epochs=50,\n",
    "        validation_data=validation_generator,\n",
    "        callbacks=[early_stopping, model_checkpoint, reduce_lr]\n",
    "    )"
   ]
  },
  {
   "cell_type": "markdown",
   "id": "dd8dface-fd64-4e12-a196-450e5a489687",
   "metadata": {},
   "source": [
    "## Visualizing Training History"
   ]
  },
  {
   "cell_type": "code",
   "execution_count": 14,
   "id": "292b57c6-867d-4880-a2cc-040189e482e4",
   "metadata": {},
   "outputs": [
    {
     "name": "stdout",
     "output_type": "stream",
     "text": [
      "The history saving thread hit an unexpected error (OperationalError('attempt to write a readonly database')).History will not be written to the database.\n"
     ]
    },
    {
     "data": {
      "text/plain": [
       "<Figure size 1200x400 with 0 Axes>"
      ]
     },
     "execution_count": 14,
     "metadata": {},
     "output_type": "execute_result"
    },
    {
     "data": {
      "text/plain": [
       "<Figure size 1200x400 with 0 Axes>"
      ]
     },
     "metadata": {},
     "output_type": "display_data"
    }
   ],
   "source": [
    "# Plotting training and validation accuracy and loss\n",
    "plt.figure(figsize=(12, 4))"
   ]
  },
  {
   "cell_type": "code",
   "execution_count": 15,
   "id": "3a52b02f-f40c-4685-a93a-eef8ec1c7c64",
   "metadata": {},
   "outputs": [
    {
     "data": {
      "text/plain": [
       "Text(0.5, 1.0, 'Accuracy')"
      ]
     },
     "execution_count": 15,
     "metadata": {},
     "output_type": "execute_result"
    },
    {
     "data": {
      "image/png": "[encoded data removed]",
      "text/plain": [
       "<Figure size 640x480 with 1 Axes>"
      ]
     },
     "metadata": {},
     "output_type": "display_data"
    }
   ],
   "source": [
    "# Accuracy plot\n",
    "plt.subplot(1, 2, 1)\n",
    "plt.plot(history.history['accuracy'], label='train accuracy')\n",
    "plt.plot(history.history['val_accuracy'], label='val accuracy')\n",
    "plt.xlabel('Epochs')\n",
    "plt.ylabel('Accuracy')\n",
    "plt.legend()\n",
    "plt.title('Accuracy')"
   ]
  },
  {
   "cell_type": "code",
   "execution_count": 16,
   "id": "d233821a-5a38-499a-b3ea-1079f7656122",
   "metadata": {},
   "outputs": [
    {
     "data": {
      "text/plain": [
       "Text(0.5, 1.0, 'Loss')"
      ]
     },
     "execution_count": 16,
     "metadata": {},
     "output_type": "execute_result"
    },
    {
     "data": {
      "image/png": "[encoded data removed]",
      "text/plain": [
       "<Figure size 640x480 with 1 Axes>"
      ]
     },
     "metadata": {},
     "output_type": "display_data"
    }
   ],
   "source": [
    "# Loss plot\n",
    "plt.subplot(1, 2, 2)\n",
    "plt.plot(history.history['loss'], label='train loss')\n",
    "plt.plot(history.history['val_loss'], label='val loss')\n",
    "plt.xlabel('Epochs')\n",
    "plt.ylabel('Loss')\n",
    "plt.legend()\n",
    "plt.title('Loss')"
   ]
  },
  {
   "cell_type": "code",
   "execution_count": 17,
   "id": "45a30984-e4a5-4602-81f6-cd8953d9bcab",
   "metadata": {},
   "outputs": [],
   "source": [
    "plt.show()"
   ]
  },
  {
   "cell_type": "markdown",
   "id": "ecc05670-d0d8-433d-8b18-42a4bcc1d975",
   "metadata": {},
   "source": [
    "## Evaluating the Model"
   ]
  },
  {
   "cell_type": "code",
   "execution_count": 21,
   "id": "2efcfe77-71f3-4dc7-b03b-bd460ddbd246",
   "metadata": {},
   "outputs": [
    {
     "name": "stdout",
     "output_type": "stream",
     "text": [
      "\u001b[1m171/171\u001b[0m \u001b[32m━━━━━━━━━━━━━━━━━━━━\u001b[0m\u001b[37m\u001b[0m \u001b[1m18s\u001b[0m 103ms/step - accuracy: 0.8497 - loss: 0.4260\n",
      "Validation accuracy: 85.18%\n"
     ]
    }
   ],
   "source": [
    "# Evaluating the trained model on the validation dataset\n",
    "loss, accuracy = model.evaluate(validation_generator)\n",
    "print(f\"Validation accuracy: {accuracy * 100:.2f}%\")"
   ]
  },
  {
   "cell_type": "markdown",
   "id": "8999dcd2-0ef3-4c13-aeb7-f15d12fe1d11",
   "metadata": {},
   "source": [
    "## Saving History"
   ]
  },
  {
   "cell_type": "code",
   "execution_count": 27,
   "id": "2b071184-f569-48e3-8902-b84df27d05f9",
   "metadata": {},
   "outputs": [
    {
     "data": {
      "text/plain": [
       "{'accuracy': [0.5850401520729065,\n",
       "  0.6887801289558411,\n",
       "  0.7107827067375183,\n",
       "  0.7286033630371094,\n",
       "  0.7428123354911804,\n",
       "  0.7516038417816162,\n",
       "  0.7571163773536682,\n",
       "  0.7654326558113098,\n",
       "  0.764624834060669,\n",
       "  0.7760775685310364,\n",
       "  0.775127112865448,\n",
       "  0.7804495692253113,\n",
       "  0.7821128368377686,\n",
       "  0.7839661836624146,\n",
       "  0.7846314907073975,\n",
       "  0.7884807586669922,\n",
       "  0.7877678871154785,\n",
       "  0.7928527593612671,\n",
       "  0.79171222448349,\n",
       "  0.7974623441696167,\n",
       "  0.7939457297325134,\n",
       "  0.799125611782074,\n",
       "  0.8034976124763489,\n",
       "  0.8026897311210632,\n",
       "  0.8019293546676636,\n",
       "  0.8058261871337891,\n",
       "  0.8067765831947327,\n",
       "  0.8070142269134521,\n",
       "  0.8267832398414612,\n",
       "  0.8372380137443542,\n",
       "  0.8321056962013245,\n",
       "  0.8339590430259705,\n",
       "  0.8378558158874512,\n",
       "  0.8412773609161377,\n",
       "  0.8418001532554626,\n",
       "  0.8393765091896057,\n",
       "  0.8427980542182922,\n",
       "  0.8441762328147888,\n",
       "  0.8446038961410522,\n",
       "  0.850259006023407,\n",
       "  0.8476452827453613,\n",
       "  0.8472651243209839,\n",
       "  0.846552312374115,\n",
       "  0.8461720943450928,\n",
       "  0.8434158563613892,\n",
       "  0.8468849658966064,\n",
       "  0.8487383127212524,\n",
       "  0.8471700549125671,\n",
       "  0.8462671637535095],\n",
       " 'loss': [1.236187219619751,\n",
       "  0.9147568345069885,\n",
       "  0.8423670530319214,\n",
       "  0.7794662714004517,\n",
       "  0.7456154227256775,\n",
       "  0.7212373614311218,\n",
       "  0.6927552223205566,\n",
       "  0.6783291697502136,\n",
       "  0.666461706161499,\n",
       "  0.6484625935554504,\n",
       "  0.6433996558189392,\n",
       "  0.6372443437576294,\n",
       "  0.6211864352226257,\n",
       "  0.618358850479126,\n",
       "  0.6100874543190002,\n",
       "  0.5974440574645996,\n",
       "  0.6073397994041443,\n",
       "  0.590178370475769,\n",
       "  0.5961924195289612,\n",
       "  0.579194962978363,\n",
       "  0.5806863307952881,\n",
       "  0.5706577301025391,\n",
       "  0.5625979900360107,\n",
       "  0.565531849861145,\n",
       "  0.5644026398658752,\n",
       "  0.5515586137771606,\n",
       "  0.5493227243423462,\n",
       "  0.5479166507720947,\n",
       "  0.4921797513961792,\n",
       "  0.4630851149559021,\n",
       "  0.47373998165130615,\n",
       "  0.4707980751991272,\n",
       "  0.46128755807876587,\n",
       "  0.459271639585495,\n",
       "  0.4535946846008301,\n",
       "  0.4559480845928192,\n",
       "  0.44605937600135803,\n",
       "  0.4404016435146332,\n",
       "  0.4372895359992981,\n",
       "  0.43798431754112244,\n",
       "  0.43852686882019043,\n",
       "  0.43820810317993164,\n",
       "  0.43848806619644165,\n",
       "  0.4360876679420471,\n",
       "  0.4405345618724823,\n",
       "  0.4343203008174896,\n",
       "  0.4345804750919342,\n",
       "  0.4346556067466736,\n",
       "  0.43660324811935425],\n",
       " 'val_accuracy': [0.6785714030265808,\n",
       "  0.7271062135696411,\n",
       "  0.7479853630065918,\n",
       "  0.7873626351356506,\n",
       "  0.7840659618377686,\n",
       "  0.7824175953865051,\n",
       "  0.7888278365135193,\n",
       "  0.7985348105430603,\n",
       "  0.7963370084762573,\n",
       "  0.8045787811279297,\n",
       "  0.8087912201881409,\n",
       "  0.8038461804389954,\n",
       "  0.8179486989974976,\n",
       "  0.8166666626930237,\n",
       "  0.8001831769943237,\n",
       "  0.8126373887062073,\n",
       "  0.8291208744049072,\n",
       "  0.8300366401672363,\n",
       "  0.8089743852615356,\n",
       "  0.8236263990402222,\n",
       "  0.8382784128189087,\n",
       "  0.8245421051979065,\n",
       "  0.83699631690979,\n",
       "  0.8161172270774841,\n",
       "  0.8344322443008423,\n",
       "  0.8338828086853027,\n",
       "  0.8278388381004333,\n",
       "  0.8300366401672363,\n",
       "  0.8509157299995422,\n",
       "  0.8446886539459229,\n",
       "  0.8351648449897766,\n",
       "  0.8487179279327393,\n",
       "  0.8465201258659363,\n",
       "  0.8401098847389221,\n",
       "  0.8476190567016602,\n",
       "  0.8490842580795288,\n",
       "  0.8483516573905945,\n",
       "  0.8479853272438049,\n",
       "  0.8518314957618713,\n",
       "  0.846703290939331,\n",
       "  0.8501831293106079,\n",
       "  0.8494505286216736,\n",
       "  0.8498168587684631,\n",
       "  0.8487179279327393,\n",
       "  0.8496336936950684,\n",
       "  0.8498168587684631,\n",
       "  0.8494505286216736,\n",
       "  0.8509157299995422,\n",
       "  0.8525640964508057],\n",
       " 'val_loss': [0.9073664546012878,\n",
       "  0.7789022326469421,\n",
       "  0.7083806395530701,\n",
       "  0.6196595430374146,\n",
       "  0.6332942843437195,\n",
       "  0.6241559982299805,\n",
       "  0.5936437249183655,\n",
       "  0.5664398074150085,\n",
       "  0.5828965306282043,\n",
       "  0.5482382774353027,\n",
       "  0.545879602432251,\n",
       "  0.544211745262146,\n",
       "  0.5042294263839722,\n",
       "  0.518307626247406,\n",
       "  0.5645425319671631,\n",
       "  0.5316804051399231,\n",
       "  0.4826805889606476,\n",
       "  0.4852820336818695,\n",
       "  0.5350733995437622,\n",
       "  0.499640554189682,\n",
       "  0.47659575939178467,\n",
       "  0.4984079897403717,\n",
       "  0.46138903498649597,\n",
       "  0.517300009727478,\n",
       "  0.46739643812179565,\n",
       "  0.4612969160079956,\n",
       "  0.48652148246765137,\n",
       "  0.47329026460647583,\n",
       "  0.4162018597126007,\n",
       "  0.431282103061676,\n",
       "  0.45976898074150085,\n",
       "  0.4241229295730591,\n",
       "  0.4287038743495941,\n",
       "  0.4435144066810608,\n",
       "  0.4257794916629791,\n",
       "  0.4206186532974243,\n",
       "  0.4218452274799347,\n",
       "  0.42067307233810425,\n",
       "  0.4153866171836853,\n",
       "  0.4234306514263153,\n",
       "  0.4194641411304474,\n",
       "  0.4193054735660553,\n",
       "  0.42157724499702454,\n",
       "  0.42296674847602844,\n",
       "  0.41946300864219666,\n",
       "  0.41695430874824524,\n",
       "  0.4201294779777527,\n",
       "  0.4195050895214081,\n",
       "  0.417016863822937],\n",
       " 'learning_rate': [0.0010000000474974513,\n",
       "  0.0010000000474974513,\n",
       "  0.0010000000474974513,\n",
       "  0.0010000000474974513,\n",
       "  0.0010000000474974513,\n",
       "  0.0010000000474974513,\n",
       "  0.0010000000474974513,\n",
       "  0.0010000000474974513,\n",
       "  0.0010000000474974513,\n",
       "  0.0010000000474974513,\n",
       "  0.0010000000474974513,\n",
       "  0.0010000000474974513,\n",
       "  0.0010000000474974513,\n",
       "  0.0010000000474974513,\n",
       "  0.0010000000474974513,\n",
       "  0.0010000000474974513,\n",
       "  0.0010000000474974513,\n",
       "  0.0010000000474974513,\n",
       "  0.0010000000474974513,\n",
       "  0.0010000000474974513,\n",
       "  0.0010000000474974513,\n",
       "  0.0010000000474974513,\n",
       "  0.0010000000474974513,\n",
       "  0.0010000000474974513,\n",
       "  0.0010000000474974513,\n",
       "  0.0010000000474974513,\n",
       "  0.0010000000474974513,\n",
       "  0.0010000000474974513,\n",
       "  0.00020000000949949026,\n",
       "  0.00020000000949949026,\n",
       "  0.00020000000949949026,\n",
       "  0.00020000000949949026,\n",
       "  0.00020000000949949026,\n",
       "  0.00020000000949949026,\n",
       "  4.0000002627493814e-05,\n",
       "  4.0000002627493814e-05,\n",
       "  4.0000002627493814e-05,\n",
       "  4.0000002627493814e-05,\n",
       "  4.0000002627493814e-05,\n",
       "  4.0000002627493814e-05,\n",
       "  4.0000002627493814e-05,\n",
       "  4.0000002627493814e-05,\n",
       "  4.0000002627493814e-05,\n",
       "  4.0000002627493814e-05,\n",
       "  8.000000889296643e-06,\n",
       "  8.000000889296643e-06,\n",
       "  8.000000889296643e-06,\n",
       "  8.000000889296643e-06,\n",
       "  8.000000889296643e-06]}"
      ]
     },
     "execution_count": 27,
     "metadata": {},
     "output_type": "execute_result"
    }
   ],
   "source": [
    "history.history #Return Dictionary of history"
   ]
  },
  {
   "cell_type": "code",
   "execution_count": 28,
   "id": "121e68f4-2a39-48d2-bebf-5422910584dd",
   "metadata": {},
   "outputs": [],
   "source": [
    "#Recording History in json\n",
    "import json\n",
    "with open('training_hist.json','w') as f:\n",
    "  json.dump(history.history,f)"
   ]
  }
 ],
 "metadata": {
  "kernelspec": {
   "display_name": "Python (tensorflow)",
   "language": "python",
   "name": "tensorflow"
  },
  "language_info": {
   "codemirror_mode": {
    "name": "ipython",
    "version": 3
   },
   "file_extension": ".py",
   "mimetype": "text/x-python",
   "name": "python",
   "nbconvert_exporter": "python",
   "pygments_lexer": "ipython3",
   "version": "3.9.19"
  }
 },
 "nbformat": 4,
 "nbformat_minor": 5
}
