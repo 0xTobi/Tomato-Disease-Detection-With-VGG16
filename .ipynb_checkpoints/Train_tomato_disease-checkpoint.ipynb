{
 "cells": [
  {
   "cell_type": "markdown",
   "id": "f9444a00-14eb-4c57-83ba-abe10cd4b875",
   "metadata": {},
   "source": [
    "# TOMATO DISEASE PREDICTION"
   ]
  },
  {
   "cell_type": "markdown",
   "id": "09fe2a91-8331-4686-bcd7-4f445fe8ec71",
   "metadata": {},
   "source": [
    "## Importing libraries"
   ]
  },
  {
   "cell_type": "code",
   "execution_count": 1,
   "id": "e5fdbd1e-4244-4cf5-aa7e-de96ab12df57",
   "metadata": {},
   "outputs": [],
   "source": [
    "import tensorflow as tf\n",
    "import matplotlib.pyplot as plt\n",
    "import pandas as pd\n",
    "import seaborn as sns\n",
    "from tensorflow.keras.preprocessing.image import ImageDataGenerator\n",
    "from tensorflow.keras.applications import VGG16\n",
    "from tensorflow.keras.layers import Dense, Flatten, Dropout, GlobalAveragePooling2D\n",
    "from tensorflow.keras.models import Model\n",
    "from tensorflow.keras.callbacks import EarlyStopping, ModelCheckpoint, ReduceLROnPlateau"
   ]
  },
  {
   "cell_type": "markdown",
   "id": "a2029bac-c049-499e-ae2b-78c2c27efde0",
   "metadata": {},
   "source": [
    "## Data Preprocessing"
   ]
  },
  {
   "cell_type": "markdown",
   "id": "6ed8d29a-d196-4d74-b8b1-f10a67c9d4f8",
   "metadata": {},
   "source": [
    "### Data Augmentation"
   ]
  },
  {
   "cell_type": "code",
   "execution_count": null,
   "id": "85c4a35a-e738-48b4-b0de-950b798dd7b0",
   "metadata": {},
   "outputs": [],
   "source": [
    "# Applying various transformations to the training data to increase its variability\n",
    "train_datagen = ImageDataGenerator(\n",
    "    rescale=1./255,\n",
    "    rotation_range=40,\n",
    "    width_shift_range=0.2,\n",
    "    height_shift_range=0.2,\n",
    "    shear_range=0.2,\n",
    "    zoom_range=0.2,\n",
    "    horizontal_flip=True,\n",
    "    fill_mode='nearest'\n",
    ")"
   ]
  },
  {
   "cell_type": "code",
   "execution_count": null,
   "id": "02c2e90d-78c0-4e69-9bfc-f1c5e569011e",
   "metadata": {},
   "outputs": [],
   "source": [
    "# Rescaling validation data without augmentation\n",
    "validation_datagen = ImageDataGenerator(rescale=1./255)"
   ]
  },
  {
   "cell_type": "code",
   "execution_count": null,
   "id": "af0fbe2f-cf9c-4ac4-aede-87e075f65128",
   "metadata": {},
   "outputs": [],
   "source": [
    "# Loading training data with data augmentation\n",
    "train_generator = train_datagen.flow_from_directory(\n",
    "    'train',\n",
    "    target_size=(128, 128),\n",
    "    batch_size=32,\n",
    "    class_mode='categorical'\n",
    ")"
   ]
  },
  {
   "cell_type": "code",
   "execution_count": null,
   "id": "fc027d7c-ffa7-4bef-b632-2c7a7dd33d5f",
   "metadata": {},
   "outputs": [],
   "source": [
    "# Loading validation data\n",
    "validation_generator = validation_datagen.flow_from_directory(\n",
    "    'valid',\n",
    "    target_size=(128, 128),\n",
    "    batch_size=32,\n",
    "    class_mode='categorical'\n",
    ")"
   ]
  },
  {
   "cell_type": "markdown",
   "id": "949c3e43-5b27-44e2-a86d-036e1d95424f",
   "metadata": {},
   "source": [
    "## Building the Model"
   ]
  },
  {
   "cell_type": "markdown",
   "id": "465a1e29-aa5b-478a-acb5-99163b3da62d",
   "metadata": {},
   "source": [
    "### Transfer Learning with VGG16"
   ]
  },
  {
   "cell_type": "code",
   "execution_count": null,
   "id": "f961f461-a759-451b-97c5-2e7631188518",
   "metadata": {},
   "outputs": [],
   "source": [
    "# Using a pre-trained VGG16 model, excluding its top layers\n",
    "base_model = VGG16(input_shape=(128, 128, 3), include_top=False, weights='imagenet')"
   ]
  },
  {
   "cell_type": "code",
   "execution_count": null,
   "id": "e41b3476-3ed7-4471-8e87-d7e6bc3dcab7",
   "metadata": {},
   "outputs": [],
   "source": [
    "# Freezing the layers of the pre-trained model\n",
    "for layer in base_model.layers:\n",
    "    layer.trainable = False"
   ]
  },
  {
   "cell_type": "code",
   "execution_count": null,
   "id": "2f048367-0135-4eea-a666-1b1f3db6bfc8",
   "metadata": {},
   "outputs": [],
   "source": [
    "# Adding custom top layers for our specific classification task\n",
    "x = base_model.output\n",
    "x = GlobalAveragePooling2D()(x)\n",
    "x = Dense(1024, activation='relu')(x)\n",
    "x = Dropout(0.5)(x)\n",
    "predictions = Dense(10, activation='softmax')(x)"
   ]
  },
  {
   "cell_type": "code",
   "execution_count": null,
   "id": "40f8a7f2-efb8-461d-8775-58895ae0cd44",
   "metadata": {},
   "outputs": [],
   "source": [
    "# Defining the complete model\n",
    "model = Model(inputs=base_model.input, outputs=predictions)"
   ]
  },
  {
   "cell_type": "code",
   "execution_count": null,
   "id": "d3f1a509-8151-4b2f-a032-94dc0dfd6760",
   "metadata": {},
   "outputs": [],
   "source": [
    "# Compiling the model with appropriate loss function and optimizer\n",
    "model.compile(optimizer='adam', loss='categorical_crossentropy', metrics=['accuracy'])"
   ]
  },
  {
   "cell_type": "markdown",
   "id": "e3191990-b5fd-49a2-a89f-257388f41e40",
   "metadata": {},
   "source": [
    "## Training the Model"
   ]
  },
  {
   "cell_type": "markdown",
   "id": "fd0cbc77-d7f7-44fb-97cd-9c63b3b0f469",
   "metadata": {},
   "source": [
    "### Callbacks"
   ]
  },
  {
   "cell_type": "code",
   "execution_count": null,
   "id": "014d8ea2-a1c8-4dcc-94fe-3cc89ebe1788",
   "metadata": {},
   "outputs": [],
   "source": [
    "# Setting up callbacks for early stopping, model checkpointing, and learning rate reduction\n",
    "early_stopping = EarlyStopping(monitor='val_loss', patience=10, restore_best_weights=True)\n",
    "model_checkpoint = ModelCheckpoint('best_model.keras', save_best_only=True)\n",
    "reduce_lr = ReduceLROnPlateau(monitor='val_loss', factor=0.2, patience=5)"
   ]
  },
  {
   "cell_type": "code",
   "execution_count": null,
   "id": "b3235f9d-fce8-4afb-a019-91fc1d3d3345",
   "metadata": {},
   "outputs": [],
   "source": [
    "# Training the model with the specified configuration\n",
    "history = model.fit(\n",
    "    train_generator,\n",
    "    epochs=10,\n",
    "    validation_data=validation_generator,\n",
    "    callbacks=[early_stopping, model_checkpoint, reduce_lr]\n",
    ")"
   ]
  },
  {
   "cell_type": "markdown",
   "id": "dd8dface-fd64-4e12-a196-450e5a489687",
   "metadata": {},
   "source": [
    "## Visualizing Training History"
   ]
  },
  {
   "cell_type": "code",
   "execution_count": null,
   "id": "292b57c6-867d-4880-a2cc-040189e482e4",
   "metadata": {},
   "outputs": [],
   "source": [
    "# Plotting training and validation accuracy and loss\n",
    "plt.figure(figsize=(12, 4))"
   ]
  },
  {
   "cell_type": "code",
   "execution_count": null,
   "id": "3a52b02f-f40c-4685-a93a-eef8ec1c7c64",
   "metadata": {},
   "outputs": [],
   "source": [
    "# Accuracy plot\n",
    "plt.subplot(1, 2, 1)\n",
    "plt.plot(history.history['accuracy'], label='train accuracy')\n",
    "plt.plot(history.history['val_accuracy'], label='val accuracy')\n",
    "plt.xlabel('Epochs')\n",
    "plt.ylabel('Accuracy')\n",
    "plt.legend()\n",
    "plt.title('Accuracy')"
   ]
  },
  {
   "cell_type": "code",
   "execution_count": null,
   "id": "d233821a-5a38-499a-b3ea-1079f7656122",
   "metadata": {},
   "outputs": [],
   "source": [
    "# Loss plot\n",
    "plt.subplot(1, 2, 2)\n",
    "plt.plot(history.history['loss'], label='train loss')\n",
    "plt.plot(history.history['val_loss'], label='val loss')\n",
    "plt.xlabel('Epochs')\n",
    "plt.ylabel('Loss')\n",
    "plt.legend()\n",
    "plt.title('Loss')"
   ]
  },
  {
   "cell_type": "code",
   "execution_count": null,
   "id": "45a30984-e4a5-4602-81f6-cd8953d9bcab",
   "metadata": {},
   "outputs": [],
   "source": [
    "plt.show()"
   ]
  },
  {
   "cell_type": "markdown",
   "id": "ecc05670-d0d8-433d-8b18-42a4bcc1d975",
   "metadata": {},
   "source": [
    "## Evaluating the Model"
   ]
  },
  {
   "cell_type": "code",
   "execution_count": null,
   "id": "2efcfe77-71f3-4dc7-b03b-bd460ddbd246",
   "metadata": {},
   "outputs": [],
   "source": [
    "# Evaluating the trained model on the validation dataset\n",
    "loss, accuracy = model.evaluate(validation_generator)\n",
    "print(f\"Validation accuracy: {accuracy * 100:.2f}%\")"
   ]
  },
  {
   "cell_type": "code",
   "execution_count": 2,
   "id": "cc08a715-e7d3-4700-833d-6812b48b75f3",
   "metadata": {},
   "outputs": [
    {
     "name": "stdout",
     "output_type": "stream",
     "text": [
      "Num GPUs Available:  1\n"
     ]
    }
   ],
   "source": [
    "print(\"Num GPUs Available: \", len(tf.config.experimental.list_physical_devices('GPU')))"
   ]
  }
 ],
 "metadata": {
  "kernelspec": {
   "display_name": "Python (tensorflow)",
   "language": "python",
   "name": "tensorflow"
  },
  "language_info": {
   "codemirror_mode": {
    "name": "ipython",
    "version": 3
   },
   "file_extension": ".py",
   "mimetype": "text/x-python",
   "name": "python",
   "nbconvert_exporter": "python",
   "pygments_lexer": "ipython3",
   "version": "3.9.19"
  }
 },
 "nbformat": 4,
 "nbformat_minor": 5
}
